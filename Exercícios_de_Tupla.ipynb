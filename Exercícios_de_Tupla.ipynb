{
  "cells": [
    {
      "cell_type": "markdown",
      "metadata": {
        "id": "view-in-github",
        "colab_type": "text"
      },
      "source": [
        "<a href=\"https://colab.research.google.com/github/gb-dev/Atividades_python/blob/main/Exerc%C3%ADcios_de_Tupla.ipynb\" target=\"_parent\"><img src=\"https://colab.research.google.com/assets/colab-badge.svg\" alt=\"Open In Colab\"/></a>"
      ]
    },
    {
      "cell_type": "markdown",
      "metadata": {
        "id": "_PUQEt6w-BtF"
      },
      "source": [
        "# Exercícios\n",
        "\n",
        "São exercícios bem parecidos com os que fizemos com listas. Mas na tupla, podemos não só trabalhar com índices, mas fazer o \"unpacking\" das tuplas, o que pode facilitar nossos códigos.\n",
        "\n",
        "## 1. Análise de Vendas\n",
        "\n",
        "Nesse exercício vamos fazer uma \"análise simples\" de atingimento de Meta.\n",
        "\n",
        "Temos uma lista com os vendedores e os valores de vendas e queremos identificar (printar) quais os vendedores que bateram a meta e qual foi o valor que eles venderam."
      ]
    },
    {
      "cell_type": "code",
      "execution_count": null,
      "metadata": {
        "id": "2QwnATcU-BtK",
        "colab": {
          "base_uri": "https://localhost:8080/"
        },
        "outputId": "d9da25fa-5fb4-4b8a-8865-c8ce25456787"
      },
      "outputs": [
        {
          "output_type": "stream",
          "name": "stdout",
          "text": [
            "João bateu a meta com o valor R$15_000.00\n",
            "Julia bateu a meta com o valor R$27_000.00\n",
            "Ana bateu a meta com o valor R$10_300.00\n"
          ]
        }
      ],
      "source": [
        "meta = 10000\n",
        "vendas = [\n",
        "    ('João', 15000),\n",
        "    ('Julia', 27000),\n",
        "    ('Marcus', 9900),\n",
        "    ('Maria', 3750),\n",
        "    ('Ana', 10300),\n",
        "    ('Alon', 7870),\n",
        "]\n",
        "\n",
        "for vendedor, valor_vendido in vendas:\n",
        "  if valor_vendido >= meta:\n",
        "    print(f'{vendedor} bateu a meta com o valor R${valor_vendido:_.2f}')"
      ]
    },
    {
      "cell_type": "markdown",
      "metadata": {
        "id": "kGAgUMZv-BtN"
      },
      "source": [
        "## 2. Comparação com Ano Anterior\n",
        "\n",
        "Digamos que você está analisando as vendas de produtos de um ecommerce e quer identificar quais produtos tiveram no ano de 2020 mais vendas do que no ano de 2019, para reportar isso para a diretoria.\n",
        "\n",
        "Sua resposta pode ser um print de cada produto, qual foi a venda de 2019, a venda de 2020 e o % de crescimento de 2020 para 2019.\n",
        "\n",
        "Lembrando, para calcular o % de crescimento de um produto de um ano para o outro, podemos fazer: (vendas_produto2020/vendas_produto2019 - 1)\n",
        "\n",
        "A lógica da tupla é: (produto, vendas2019, vendas2020)"
      ]
    },
    {
      "cell_type": "code",
      "execution_count": null,
      "metadata": {
        "id": "3n9lGkn8-BtO",
        "colab": {
          "base_uri": "https://localhost:8080/"
        },
        "outputId": "b682d404-d805-4b47-a876-a8c2cfd66352"
      },
      "outputs": [
        {
          "output_type": "stream",
          "name": "stdout",
          "text": [
            "iphone vendeu 558147 unidades em 2019 e 1116294 unidades em 2020, apresentando um crescimento de 100%\n",
            "tv vendeu 405252 unidades em 2019 e 787604 unidades em 2020, apresentando um crescimento de 94%\n",
            "máquina de café vendeu 718654 unidades em 2019 e 867660 unidades em 2020, apresentando um crescimento de 21%\n",
            "notebook dell vendeu 422760 unidades em 2019 e 694913 unidades em 2020, apresentando um crescimento de 64%\n",
            "notebook hp vendeu 154753 unidades em 2019 e 539704 unidades em 2020, apresentando um crescimento de 249%\n",
            "microsoft surface vendeu 438508 unidades em 2019 e 667179 unidades em 2020, apresentando um crescimento de 52%\n",
            "webcam vendeu 237467 unidades em 2019 e 295633 unidades em 2020, apresentando um crescimento de 24%\n",
            "caixa de som vendeu 489705 unidades em 2019 e 725316 unidades em 2020, apresentando um crescimento de 48%\n",
            "microfone vendeu 328311 unidades em 2019 e 644622 unidades em 2020, apresentando um crescimento de 96%\n",
            "câmera canon vendeu 591120 unidades em 2019 e 994303 unidades em 2020, apresentando um crescimento de 68%\n"
          ]
        }
      ],
      "source": [
        "vendas_produtos = [('iphone', 558147, 1116294), ('galaxy', 712350, 244295), ('ipad', 573823, 26964), ('tv', 405252, 787604), ('máquina de café', 718654, 867660), ('kindle', 531580, 78830), ('geladeira', 973139, 710331), ('adega', 892292, 646016), ('notebook dell', 422760, 694913), ('notebook hp', 154753, 539704), ('notebook asus', 887061, 324831), ('microsoft surface', 438508, 667179), ('webcam', 237467, 295633), ('caixa de som', 489705, 725316), ('microfone', 328311, 644622), ('câmera canon', 591120, 994303)]\n",
        "\n",
        "for produto, vendas19, vendas20 in vendas_produtos:\n",
        "  if vendas20 > vendas19:\n",
        "    crescimento = (vendas20 / vendas19 - 1)\n",
        "    print('{} vendeu {} unidades em 2019 e {} unidades em 2020, apresentando um crescimento de {:.0%}'.format(produto, vendas19, vendas20, crescimento))\n",
        "\n",
        "\n",
        "\n",
        "\n",
        "\n",
        "\n",
        "\n"
      ]
    }
  ],
  "metadata": {
    "kernelspec": {
      "display_name": "Python 3",
      "language": "python",
      "name": "python3"
    },
    "language_info": {
      "codemirror_mode": {
        "name": "ipython",
        "version": 3
      },
      "file_extension": ".py",
      "mimetype": "text/x-python",
      "name": "python",
      "nbconvert_exporter": "python",
      "pygments_lexer": "ipython3",
      "version": "3.8.3"
    },
    "colab": {
      "provenance": [],
      "include_colab_link": true
    }
  },
  "nbformat": 4,
  "nbformat_minor": 0
}