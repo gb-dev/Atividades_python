{
  "cells": [
    {
      "cell_type": "markdown",
      "metadata": {
        "id": "view-in-github",
        "colab_type": "text"
      },
      "source": [
        "<a href=\"https://colab.research.google.com/github/gb-dev/Atividades_python/blob/main/13_04_01_Exerc%C3%ADcios_de_Function.ipynb\" target=\"_parent\"><img src=\"https://colab.research.google.com/assets/colab-badge.svg\" alt=\"Open In Colab\"/></a>"
      ]
    },
    {
      "cell_type": "markdown",
      "metadata": {
        "id": "Fp3rJMXYSDUu"
      },
      "source": [
        "# Exercícios\n",
        "\n",
        "Para fazer um treino simples antes de avançarmos em mais functions, vamos criar uma function que resolve 1 \"desafio simples\"\n",
        "\n",
        "## 1. Function para Cálculo de Carga Tributária\n",
        "\n",
        "(Lembrando, não se atente ao funcionamento real da carga tributária, é apenas um exemplo imaginário para treinarmos as functions com algo mais prático)\n",
        "\n",
        "Imagine que você trabalha no setor contábil de uma grande empresa de Varejo. \n",
        "\n",
        "Crie uma function que calcule qual o % de carga tributária que está sendo aplicado sobre um determinado produto, dado o preço de venda, o \"lucro\" e os custos (com exceção do imposto) dele."
      ]
    },
    {
      "cell_type": "code",
      "execution_count": 5,
      "metadata": {
        "id": "cUrSoyU6SDUy"
      },
      "outputs": [],
      "source": [
        "preco = 1500\n",
        "custo = 400\n",
        "lucro = 800"
      ]
    },
    {
      "cell_type": "markdown",
      "metadata": {
        "id": "4bc8WR9vSDUz"
      },
      "source": [
        "Repare que preço - custo não é igual ao lucro, porque ainda foi descontado o imposto. Sua functiona deve calcular qual foi o % de imposto aplicado sobre o preço total."
      ]
    },
    {
      "cell_type": "code",
      "execution_count": 6,
      "metadata": {
        "id": "ZSCeOVGdSDUz"
      },
      "outputs": [],
      "source": [
        "#crie sua function aqui\n",
        "def calcular_tributo(preco, custo, lucro):\n",
        "  imposto = preco - custo - lucro\n",
        "  return imposto / preco\n",
        "\n",
        "\n"
      ]
    },
    {
      "cell_type": "code",
      "execution_count": 10,
      "metadata": {
        "id": "dX_hnO1iSDU0",
        "outputId": "55478f5c-1a83-45ff-ff02-efac5e291d05",
        "colab": {
          "base_uri": "https://localhost:8080/"
        }
      },
      "outputs": [
        {
          "output_type": "stream",
          "name": "stdout",
          "text": [
            "A carga tributário foi de 20%\n"
          ]
        }
      ],
      "source": [
        "#aplique sua function nos valores fornecidos para ver se ela está funcionando corretamente\n",
        "\n",
        "print ('A carga tributário foi de {:.0%}'.format(calcular_tributo(preco, custo, lucro)))"
      ]
    }
  ],
  "metadata": {
    "kernelspec": {
      "display_name": "Python 3",
      "language": "python",
      "name": "python3"
    },
    "language_info": {
      "codemirror_mode": {
        "name": "ipython",
        "version": 3
      },
      "file_extension": ".py",
      "mimetype": "text/x-python",
      "name": "python",
      "nbconvert_exporter": "python",
      "pygments_lexer": "ipython3",
      "version": "3.8.3"
    },
    "colab": {
      "provenance": [],
      "include_colab_link": true
    }
  },
  "nbformat": 4,
  "nbformat_minor": 0
}